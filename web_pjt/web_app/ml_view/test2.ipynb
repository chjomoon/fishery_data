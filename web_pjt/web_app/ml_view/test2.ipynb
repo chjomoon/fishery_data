{
 "cells": [
  {
   "cell_type": "code",
   "execution_count": 6,
   "id": "fa7752a6",
   "metadata": {},
   "outputs": [],
   "source": [
    "import pandas as pd\n",
    "import numpy as np\n",
    "import os\n",
    "import matplotlib.pyplot as plt\n",
    "import seaborn as sns\n",
    "\n",
    "plt.rc(\"font\", family=\"Malgun Gothic\")\n",
    "plt.rcParams[\"axes.unicode_minus\"] = False\n",
    "\n",
    "from sklearn import set_config\n",
    "set_config(display=\"text\")\n",
    "\n",
    "\n",
    "import joblib\n",
    "from geopy.distance import geodesic\n"
   ]
  },
  {
   "cell_type": "code",
   "execution_count": 2,
   "id": "9b9be09e",
   "metadata": {},
   "outputs": [],
   "source": [
    "df = pd.read_excel('./data/buoy_merge.xlsx')\n",
    "#model = joblib.load('./best_model/21229__BEST__MinMaxScaler__RandomForestRegressor.joblib')\n",
    "#/Users/chjo_moon/Desktop/PJT_Web/web_app/ml_view/best_model/21229__BEST__MinMaxScaler__RandomForestRegressor.joblib"
   ]
  },
  {
   "cell_type": "code",
   "execution_count": 21,
   "id": "6865b258",
   "metadata": {},
   "outputs": [
    {
     "name": "stdout",
     "output_type": "stream",
     "text": [
      "<class 'pandas.core.frame.DataFrame'>\n",
      "RangeIndex: 31 entries, 0 to 30\n",
      "Data columns (total 6 columns):\n",
      " #   Column      Non-Null Count  Dtype  \n",
      "---  ------      --------------  -----  \n",
      " 0   Unnamed: 0  31 non-null     int64  \n",
      " 1   지점명         31 non-null     object \n",
      " 2   지점번호        31 non-null     int64  \n",
      " 3   위도          31 non-null     object \n",
      " 4   경도          31 non-null     object \n",
      " 5   거리          31 non-null     float64\n",
      "dtypes: float64(1), int64(2), object(3)\n",
      "memory usage: 1.6+ KB\n"
     ]
    }
   ],
   "source": [
    "df_loc.info()"
   ]
  },
  {
   "cell_type": "code",
   "execution_count": 3,
   "id": "a525e0d0",
   "metadata": {},
   "outputs": [],
   "source": [
    "df_loc = pd.read_excel('./data/buoy_df.xlsx')"
   ]
  },
  {
   "cell_type": "code",
   "execution_count": 27,
   "id": "e2f67fee",
   "metadata": {},
   "outputs": [],
   "source": [
    "num_list = [int(job.split('_')[0]) for job in os.listdir(\"./best_model/\")]\n",
    "df_loc_filtered =  df_loc.loc[df_loc['지점번호'].isin(num_list)]"
   ]
  },
  {
   "cell_type": "code",
   "execution_count": 34,
   "id": "2511e38d",
   "metadata": {},
   "outputs": [],
   "source": [
    "new_buoy = df_loc_filtered.iloc[:,1:].to_csv('./data/buoy_df.csv',encoding='utf-8',index=False)\n",
    "new_buoy"
   ]
  },
  {
   "cell_type": "code",
   "execution_count": 36,
   "id": "761b0d01",
   "metadata": {},
   "outputs": [],
   "source": [
    "new_buoy = df_loc_filtered.iloc[:,1:]"
   ]
  },
  {
   "cell_type": "code",
   "execution_count": 43,
   "id": "db66cc63",
   "metadata": {},
   "outputs": [],
   "source": [
    "def read_model(buoy):\n",
    "    loc = str(buoy['지점번호'])\n",
    "    model_dir = \"./best_model/\"  # 디렉토리\n",
    "    file_list = os.listdir(model_dir)\n",
    "    \n",
    "    model_file = None\n",
    "    for f in file_list:\n",
    "        if loc in f:\n",
    "            model_file = os.path.join(model_dir, f)\n",
    "            print(model_file)\n",
    "            break\n",
    "    \n",
    "    if model_file is None:\n",
    "        raise FileNotFoundError(f\"{loc} 관련 모델 파일을 찾을 수 없습니다.\")\n",
    "    print(f\"selected model : {model_file}\")\n",
    "    return joblib.load(model_file)\n",
    "\n",
    "def near_buoy(lat,long):\n",
    "    # 각 부이와의 거리 계산(km 단위)\n",
    "    new_buoy[\"거리\"] = new_buoy.apply(\n",
    "        lambda x: geodesic([lat,long], (x[\"위도\"], x[\"경도\"])).kilometers,\n",
    "        axis=1\n",
    "    )\n",
    "    # 거리값 중 가장 가까운 부이 Series Return(지점명,지점번호,위도,경도,거리)\n",
    "    result = new_buoy.loc[new_buoy[\"거리\"].idxmin()]\n",
    "    print(result)\n",
    "    return result\n"
   ]
  },
  {
   "cell_type": "code",
   "execution_count": 44,
   "id": "c1123681",
   "metadata": {},
   "outputs": [
    {
     "name": "stdout",
     "output_type": "stream",
     "text": [
      "지점명            울릉도\n",
      "지점번호         21229\n",
      "위도         37.4554\n",
      "경도        131.1144\n",
      "거리      190.396951\n",
      "Name: 22, dtype: object\n",
      "./best_model/21229__BEST__MinMaxScaler__RandomForestRegressor.joblib\n",
      "selected model : ./best_model/21229__BEST__MinMaxScaler__RandomForestRegressor.joblib\n"
     ]
    },
    {
     "name": "stderr",
     "output_type": "stream",
     "text": [
      "/Users/chjo_moon/anaconda3/envs/myenv/lib/python3.11/site-packages/sklearn/base.py:442: InconsistentVersionWarning: Trying to unpickle estimator MinMaxScaler from version 1.7.1 when using version 1.7.2. This might lead to breaking code or invalid results. Use at your own risk. For more info please refer to:\n",
      "https://scikit-learn.org/stable/model_persistence.html#security-maintainability-limitations\n",
      "  warnings.warn(\n",
      "/Users/chjo_moon/anaconda3/envs/myenv/lib/python3.11/site-packages/sklearn/base.py:442: InconsistentVersionWarning: Trying to unpickle estimator DecisionTreeRegressor from version 1.7.1 when using version 1.7.2. This might lead to breaking code or invalid results. Use at your own risk. For more info please refer to:\n",
      "https://scikit-learn.org/stable/model_persistence.html#security-maintainability-limitations\n",
      "  warnings.warn(\n",
      "/Users/chjo_moon/anaconda3/envs/myenv/lib/python3.11/site-packages/sklearn/base.py:442: InconsistentVersionWarning: Trying to unpickle estimator RandomForestRegressor from version 1.7.1 when using version 1.7.2. This might lead to breaking code or invalid results. Use at your own risk. For more info please refer to:\n",
      "https://scikit-learn.org/stable/model_persistence.html#security-maintainability-limitations\n",
      "  warnings.warn(\n",
      "/Users/chjo_moon/anaconda3/envs/myenv/lib/python3.11/site-packages/sklearn/base.py:442: InconsistentVersionWarning: Trying to unpickle estimator Pipeline from version 1.7.1 when using version 1.7.2. This might lead to breaking code or invalid results. Use at your own risk. For more info please refer to:\n",
      "https://scikit-learn.org/stable/model_persistence.html#security-maintainability-limitations\n",
      "  warnings.warn(\n"
     ]
    }
   ],
   "source": [
    "buoy = near_buoy(38.800, 129.766)\n",
    "model = read_model(buoy)"
   ]
  },
  {
   "cell_type": "code",
   "execution_count": 19,
   "id": "4fb1c522",
   "metadata": {},
   "outputs": [
    {
     "name": "stderr",
     "output_type": "stream",
     "text": [
      "/Users/chjo_moon/anaconda3/envs/myenv/lib/python3.11/site-packages/sklearn/utils/validation.py:2749: UserWarning: X does not have valid feature names, but MinMaxScaler was fitted with feature names\n",
      "  warnings.warn(\n"
     ]
    },
    {
     "data": {
      "text/plain": [
       "array([9462.78119084])"
      ]
     },
     "execution_count": 19,
     "metadata": {},
     "output_type": "execute_result"
    }
   ],
   "source": [
    "X = np.array([2027,11,9,1022.7,57,18.6,21.85,2,0,21,39])\n",
    "X = X.reshape(1, -1)   # (1, 11) 형태: 샘플 1개, 특성 11개\n",
    "model.predict(X)\n"
   ]
  },
  {
   "cell_type": "code",
   "execution_count": 21,
   "id": "1a2a74d5",
   "metadata": {},
   "outputs": [],
   "source": [
    "def near_buoy(lac,long):\n",
    "    # 각 부이와의 거리 계산(km 단위)\n",
    "    df_loc[\"거리\"] = df_loc.apply(\n",
    "        lambda x: geodesic([lac,long], (x[\"위도\"], x[\"경도\"])).kilometers,\n",
    "        axis=1\n",
    "    )\n",
    "    # 거리값 중 가장 가까운 부이 Series Return(지점명,지점번호,위도,경도,거리)\n",
    "    return df_loc.loc[df_loc[\"거리\"].idxmin()]"
   ]
  },
  {
   "cell_type": "code",
   "execution_count": 22,
   "id": "134e7643",
   "metadata": {},
   "outputs": [
    {
     "data": {
      "text/plain": [
       "<bound method Series.keys of Unnamed: 0            29\n",
       "지점명                  포항 \n",
       "지점번호               22106\n",
       "위도                36.35 \n",
       "경도            129.783333\n",
       "거리            143.707998\n",
       "Name: 29, dtype: object>"
      ]
     },
     "execution_count": 22,
     "metadata": {},
     "output_type": "execute_result"
    }
   ],
   "source": [
    "near_buoy(36.001,128.245).keys"
   ]
  },
  {
   "cell_type": "code",
   "execution_count": 23,
   "id": "df198cde",
   "metadata": {},
   "outputs": [
    {
     "name": "stdout",
     "output_type": "stream",
     "text": [
      "<class 'pandas.core.frame.DataFrame'>\n",
      "RangeIndex: 73519 entries, 0 to 73518\n",
      "Data columns (total 13 columns):\n",
      " #   Column      Non-Null Count  Dtype         \n",
      "---  ------      --------------  -----         \n",
      " 0   Unnamed: 0  73519 non-null  int64         \n",
      " 1   일자          73519 non-null  datetime64[ns]\n",
      " 2   지점          73519 non-null  int64         \n",
      " 3   평균기압        73519 non-null  float64       \n",
      " 4   평균 상대습도     73519 non-null  float64       \n",
      " 5   평균 기온       73519 non-null  float64       \n",
      " 6   평균 수온       73519 non-null  float64       \n",
      " 7   적정수온        73519 non-null  int64         \n",
      " 8   최근저수온빈도     72109 non-null  float64       \n",
      " 9   최근적정수온빈도    72109 non-null  float64       \n",
      " 10  최근고수온빈도     72109 non-null  float64       \n",
      " 11  지점명         34844 non-null  object        \n",
      " 12  출하중량        34844 non-null  float64       \n",
      "dtypes: datetime64[ns](1), float64(8), int64(3), object(1)\n",
      "memory usage: 7.3+ MB\n"
     ]
    }
   ],
   "source": [
    "df.info()"
   ]
  },
  {
   "cell_type": "code",
   "execution_count": null,
   "id": "b161ae16",
   "metadata": {},
   "outputs": [
    {
     "data": {
      "text/html": [
       "<div>\n",
       "<style scoped>\n",
       "    .dataframe tbody tr th:only-of-type {\n",
       "        vertical-align: middle;\n",
       "    }\n",
       "\n",
       "    .dataframe tbody tr th {\n",
       "        vertical-align: top;\n",
       "    }\n",
       "\n",
       "    .dataframe thead th {\n",
       "        text-align: right;\n",
       "    }\n",
       "</style>\n",
       "<table border=\"1\" class=\"dataframe\">\n",
       "  <thead>\n",
       "    <tr style=\"text-align: right;\">\n",
       "      <th></th>\n",
       "      <th>Unnamed: 0</th>\n",
       "      <th>일자</th>\n",
       "      <th>지점</th>\n",
       "      <th>평균기압</th>\n",
       "      <th>평균 상대습도</th>\n",
       "      <th>평균 기온</th>\n",
       "      <th>평균 수온</th>\n",
       "      <th>적정수온</th>\n",
       "      <th>최근저수온빈도</th>\n",
       "      <th>최근적정수온빈도</th>\n",
       "      <th>최근고수온빈도</th>\n",
       "      <th>지점명</th>\n",
       "      <th>출하중량</th>\n",
       "    </tr>\n",
       "  </thead>\n",
       "  <tbody>\n",
       "    <tr>\n",
       "      <th>1551</th>\n",
       "      <td>1551</td>\n",
       "      <td>2017-04-01</td>\n",
       "      <td>21229</td>\n",
       "      <td>1016.3</td>\n",
       "      <td>56.0</td>\n",
       "      <td>8.8</td>\n",
       "      <td>10.8</td>\n",
       "      <td>1</td>\n",
       "      <td>60.0</td>\n",
       "      <td>0.0</td>\n",
       "      <td>0.0</td>\n",
       "      <td>NaN</td>\n",
       "      <td>NaN</td>\n",
       "    </tr>\n",
       "    <tr>\n",
       "      <th>1552</th>\n",
       "      <td>1552</td>\n",
       "      <td>2017-04-02</td>\n",
       "      <td>21229</td>\n",
       "      <td>1016.6</td>\n",
       "      <td>68.0</td>\n",
       "      <td>8.5</td>\n",
       "      <td>11.2</td>\n",
       "      <td>1</td>\n",
       "      <td>60.0</td>\n",
       "      <td>0.0</td>\n",
       "      <td>0.0</td>\n",
       "      <td>울릉도</td>\n",
       "      <td>953.0</td>\n",
       "    </tr>\n",
       "    <tr>\n",
       "      <th>1553</th>\n",
       "      <td>1553</td>\n",
       "      <td>2017-04-03</td>\n",
       "      <td>21229</td>\n",
       "      <td>1018.6</td>\n",
       "      <td>67.0</td>\n",
       "      <td>11.9</td>\n",
       "      <td>11.3</td>\n",
       "      <td>1</td>\n",
       "      <td>60.0</td>\n",
       "      <td>0.0</td>\n",
       "      <td>0.0</td>\n",
       "      <td>울릉도</td>\n",
       "      <td>870.0</td>\n",
       "    </tr>\n",
       "    <tr>\n",
       "      <th>1554</th>\n",
       "      <td>1554</td>\n",
       "      <td>2017-04-04</td>\n",
       "      <td>21229</td>\n",
       "      <td>1022.8</td>\n",
       "      <td>82.0</td>\n",
       "      <td>12.0</td>\n",
       "      <td>11.7</td>\n",
       "      <td>1</td>\n",
       "      <td>60.0</td>\n",
       "      <td>0.0</td>\n",
       "      <td>0.0</td>\n",
       "      <td>NaN</td>\n",
       "      <td>NaN</td>\n",
       "    </tr>\n",
       "    <tr>\n",
       "      <th>1555</th>\n",
       "      <td>1555</td>\n",
       "      <td>2017-04-05</td>\n",
       "      <td>21229</td>\n",
       "      <td>1019.3</td>\n",
       "      <td>81.0</td>\n",
       "      <td>12.6</td>\n",
       "      <td>11.2</td>\n",
       "      <td>1</td>\n",
       "      <td>60.0</td>\n",
       "      <td>0.0</td>\n",
       "      <td>0.0</td>\n",
       "      <td>NaN</td>\n",
       "      <td>NaN</td>\n",
       "    </tr>\n",
       "    <tr>\n",
       "      <th>...</th>\n",
       "      <td>...</td>\n",
       "      <td>...</td>\n",
       "      <td>...</td>\n",
       "      <td>...</td>\n",
       "      <td>...</td>\n",
       "      <td>...</td>\n",
       "      <td>...</td>\n",
       "      <td>...</td>\n",
       "      <td>...</td>\n",
       "      <td>...</td>\n",
       "      <td>...</td>\n",
       "      <td>...</td>\n",
       "      <td>...</td>\n",
       "    </tr>\n",
       "    <tr>\n",
       "      <th>2306</th>\n",
       "      <td>2306</td>\n",
       "      <td>2019-04-26</td>\n",
       "      <td>21229</td>\n",
       "      <td>1011.2</td>\n",
       "      <td>74.0</td>\n",
       "      <td>9.9</td>\n",
       "      <td>13.6</td>\n",
       "      <td>1</td>\n",
       "      <td>60.0</td>\n",
       "      <td>0.0</td>\n",
       "      <td>0.0</td>\n",
       "      <td>NaN</td>\n",
       "      <td>NaN</td>\n",
       "    </tr>\n",
       "    <tr>\n",
       "      <th>2307</th>\n",
       "      <td>2307</td>\n",
       "      <td>2019-04-27</td>\n",
       "      <td>21229</td>\n",
       "      <td>1020.0</td>\n",
       "      <td>64.0</td>\n",
       "      <td>11.4</td>\n",
       "      <td>13.5</td>\n",
       "      <td>1</td>\n",
       "      <td>60.0</td>\n",
       "      <td>0.0</td>\n",
       "      <td>0.0</td>\n",
       "      <td>NaN</td>\n",
       "      <td>NaN</td>\n",
       "    </tr>\n",
       "    <tr>\n",
       "      <th>2308</th>\n",
       "      <td>2308</td>\n",
       "      <td>2019-04-28</td>\n",
       "      <td>21229</td>\n",
       "      <td>1020.7</td>\n",
       "      <td>69.0</td>\n",
       "      <td>13.2</td>\n",
       "      <td>13.4</td>\n",
       "      <td>1</td>\n",
       "      <td>60.0</td>\n",
       "      <td>0.0</td>\n",
       "      <td>0.0</td>\n",
       "      <td>NaN</td>\n",
       "      <td>NaN</td>\n",
       "    </tr>\n",
       "    <tr>\n",
       "      <th>2309</th>\n",
       "      <td>2309</td>\n",
       "      <td>2019-04-29</td>\n",
       "      <td>21229</td>\n",
       "      <td>1015.6</td>\n",
       "      <td>83.0</td>\n",
       "      <td>13.2</td>\n",
       "      <td>13.2</td>\n",
       "      <td>1</td>\n",
       "      <td>60.0</td>\n",
       "      <td>0.0</td>\n",
       "      <td>0.0</td>\n",
       "      <td>울릉도</td>\n",
       "      <td>356.0</td>\n",
       "    </tr>\n",
       "    <tr>\n",
       "      <th>2310</th>\n",
       "      <td>2310</td>\n",
       "      <td>2019-04-30</td>\n",
       "      <td>21229</td>\n",
       "      <td>1008.8</td>\n",
       "      <td>88.0</td>\n",
       "      <td>13.4</td>\n",
       "      <td>13.7</td>\n",
       "      <td>1</td>\n",
       "      <td>60.0</td>\n",
       "      <td>0.0</td>\n",
       "      <td>0.0</td>\n",
       "      <td>울릉도</td>\n",
       "      <td>517.0</td>\n",
       "    </tr>\n",
       "  </tbody>\n",
       "</table>\n",
       "<p>90 rows × 13 columns</p>\n",
       "</div>"
      ],
      "text/plain": [
       "      Unnamed: 0         일자     지점    평균기압  평균 상대습도  평균 기온  평균 수온  적정수온  \\\n",
       "1551        1551 2017-04-01  21229  1016.3     56.0    8.8   10.8     1   \n",
       "1552        1552 2017-04-02  21229  1016.6     68.0    8.5   11.2     1   \n",
       "1553        1553 2017-04-03  21229  1018.6     67.0   11.9   11.3     1   \n",
       "1554        1554 2017-04-04  21229  1022.8     82.0   12.0   11.7     1   \n",
       "1555        1555 2017-04-05  21229  1019.3     81.0   12.6   11.2     1   \n",
       "...          ...        ...    ...     ...      ...    ...    ...   ...   \n",
       "2306        2306 2019-04-26  21229  1011.2     74.0    9.9   13.6     1   \n",
       "2307        2307 2019-04-27  21229  1020.0     64.0   11.4   13.5     1   \n",
       "2308        2308 2019-04-28  21229  1020.7     69.0   13.2   13.4     1   \n",
       "2309        2309 2019-04-29  21229  1015.6     83.0   13.2   13.2     1   \n",
       "2310        2310 2019-04-30  21229  1008.8     88.0   13.4   13.7     1   \n",
       "\n",
       "      최근저수온빈도  최근적정수온빈도  최근고수온빈도  지점명   출하중량  \n",
       "1551     60.0       0.0      0.0  NaN    NaN  \n",
       "1552     60.0       0.0      0.0  울릉도  953.0  \n",
       "1553     60.0       0.0      0.0  울릉도  870.0  \n",
       "1554     60.0       0.0      0.0  NaN    NaN  \n",
       "1555     60.0       0.0      0.0  NaN    NaN  \n",
       "...       ...       ...      ...  ...    ...  \n",
       "2306     60.0       0.0      0.0  NaN    NaN  \n",
       "2307     60.0       0.0      0.0  NaN    NaN  \n",
       "2308     60.0       0.0      0.0  NaN    NaN  \n",
       "2309     60.0       0.0      0.0  울릉도  356.0  \n",
       "2310     60.0       0.0      0.0  울릉도  517.0  \n",
       "\n",
       "[90 rows x 13 columns]"
      ]
     },
     "execution_count": 55,
     "metadata": {},
     "output_type": "execute_result"
    }
   ],
   "source": [
    "target_dates = pd.to_datetime(['2017-04', '2018-04', '2019-04'])\n",
    "\n",
    "df.loc[\n",
    "    (df['지점'] == 21229) \n",
    "    & \n",
    "    (df['일자'].dt.strftime('%Y-%m').isin(['2017-04','2018-04','2019-04'])), \n",
    "    :]\n"
   ]
  },
  {
   "cell_type": "code",
   "execution_count": 56,
   "id": "54dc31ba",
   "metadata": {},
   "outputs": [
    {
     "data": {
      "text/plain": [
       "Index(['Unnamed: 0', '일자', '지점', '평균기압', '평균 상대습도', '평균 기온', '평균 수온', '적정수온',\n",
       "       '최근저수온빈도', '최근적정수온빈도', '최근고수온빈도', '지점명', '출하중량'],\n",
       "      dtype='object')"
      ]
     },
     "execution_count": 56,
     "metadata": {},
     "output_type": "execute_result"
    }
   ],
   "source": [
    "df.columns"
   ]
  },
  {
   "cell_type": "code",
   "execution_count": 77,
   "id": "ec61d1c3",
   "metadata": {},
   "outputs": [],
   "source": [
    "def rolling_avg_columns_safe(df, ym, columns, station_col='지점', station=21229):\n",
    "    \"\"\"\n",
    "    df: 데이터프레임\n",
    "    ym: 기준 년월 문자열, 'YYYY-MM'\n",
    "    columns: 반환할 컬럼 리스트\n",
    "    station_col: 지점 컬럼 이름\n",
    "    station: 지점 번호\n",
    "    \"\"\"\n",
    "    # 기준 월 datetime 변환\n",
    "    target_date = pd.to_datetime(ym + '-01')\n",
    "    \n",
    "    # ±2년, ±2개월 범위 계산\n",
    "    start_date = target_date - pd.DateOffset(years=3, months=2)\n",
    "    end_date   = target_date + pd.DateOffset(years=3, months=2)\n",
    "    \n",
    "    # 해당 지점 + 기간 필터링\n",
    "    mask = (df[station_col] == station) & (df['일자'] >= start_date) & (df['일자'] <= end_date)\n",
    "    df_filtered = df.loc[mask, columns]\n",
    "    \n",
    "    if df_filtered.empty:\n",
    "        # 데이터가 없으면 NaN 반환\n",
    "        return pd.Series({col: np.nan for col in columns})\n",
    "    \n",
    "    # 수치형 컬럼 평균\n",
    "    numeric_cols = df_filtered.select_dtypes(include='number').columns\n",
    "    avg_series = df_filtered[numeric_cols].mean()\n",
    "    \n",
    "    # object 컬럼(예: 지점명) 최빈값\n",
    "    object_cols = df_filtered.select_dtypes(include='object').columns\n",
    "    mode_series = pd.Series({col: (df_filtered[col].mode().iloc[0] \n",
    "                                   if not df_filtered[col].mode().empty else np.nan)\n",
    "                             for col in object_cols})\n",
    "    \n",
    "    # 결과 합치기\n",
    "    result = pd.concat([avg_series, mode_series])\n",
    "    \n",
    "    return result"
   ]
  },
  {
   "cell_type": "code",
   "execution_count": 80,
   "id": "54aea584",
   "metadata": {},
   "outputs": [
    {
     "name": "stdout",
     "output_type": "stream",
     "text": [
      "평균기압        1014.266168\n",
      "평균 상대습도       74.417665\n",
      "평균 기온         18.351347\n",
      "평균 수온         19.035629\n",
      "적정수온           1.961078\n",
      "최근저수온빈도       24.491018\n",
      "최근적정수온빈도      16.287425\n",
      "최근고수온빈도       19.221557\n",
      "출하중량        4630.086957\n",
      "지점명                 울릉도\n",
      "dtype: object\n",
      "Index(['Unnamed: 0', '일자', '지점', '평균기압', '평균 상대습도', '평균 기온', '평균 수온', '적정수온',\n",
      "       '최근저수온빈도', '최근적정수온빈도', '최근고수온빈도', '지점명', '출하중량'],\n",
      "      dtype='object')\n"
     ]
    }
   ],
   "source": [
    "cols = ['평균기압', '평균 상대습도', '평균 기온', '평균 수온', \n",
    "        '적정수온','최근저수온빈도', '최근적정수온빈도', \n",
    "        '최근고수온빈도', '지점명', '출하중량']\n",
    "\n",
    "avg_result = rolling_avg_columns_safe(df, '2026-04', cols, station=21229)\n",
    "print(avg_result)\n",
    "print(df.columns)"
   ]
  },
  {
   "cell_type": "code",
   "execution_count": null,
   "id": "bccab031",
   "metadata": {},
   "outputs": [
    {
     "data": {
      "text/plain": [
       "[1015.1193303853443,\n",
       " 71.405874921036,\n",
       " 14.551863550221098,\n",
       " 17.219140871762473,\n",
       " 1.7428932406822488,\n",
       " 29.508528111181302,\n",
       " 16.69488313329122,\n",
       " 13.796588755527479,\n",
       " 2439.281493001555,\n",
       " '울릉도']"
      ]
     },
     "execution_count": 70,
     "metadata": {},
     "output_type": "execute_result"
    }
   ],
   "source": [
    "avg_result.to_list()"
   ]
  },
  {
   "cell_type": "code",
   "execution_count": 79,
   "id": "374de8c2",
   "metadata": {},
   "outputs": [
    {
     "name": "stderr",
     "output_type": "stream",
     "text": [
      "/Users/chjo_moon/anaconda3/envs/myenv/lib/python3.11/site-packages/sklearn/utils/validation.py:2749: UserWarning: X does not have valid feature names, but MinMaxScaler was fitted with feature names\n",
      "  warnings.warn(\n"
     ]
    },
    {
     "data": {
      "text/plain": [
       "array([8914.77019372])"
      ]
     },
     "execution_count": 79,
     "metadata": {},
     "output_type": "execute_result"
    }
   ],
   "source": [
    "X = np.array([2026,4,9] + avg_result.to_list()[:-2])\n",
    "X = X.reshape(1, -1)   # (1, 11) 형태: 샘플 1개, 특성 11개\n",
    "model.predict(X)\n"
   ]
  }
 ],
 "metadata": {
  "kernelspec": {
   "display_name": "myenv",
   "language": "python",
   "name": "python3"
  },
  "language_info": {
   "codemirror_mode": {
    "name": "ipython",
    "version": 3
   },
   "file_extension": ".py",
   "mimetype": "text/x-python",
   "name": "python",
   "nbconvert_exporter": "python",
   "pygments_lexer": "ipython3",
   "version": "3.11.13"
  }
 },
 "nbformat": 4,
 "nbformat_minor": 5
}
